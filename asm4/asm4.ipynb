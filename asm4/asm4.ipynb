{
 "cells": [
  {
   "cell_type": "markdown",
   "metadata": {
    "id": "ELs-DoWgo5S9"
   },
   "source": [
    "# Homework 4: Data-driven decison making\n",
    "\n",
    "Read the case study \\\"*Select Collections, Inc.*\\\" included with this assignment. Your group will play a role similar to that of the summer intern, Marcos Kilduff. However, your assignment is not to predict *totalpay* for the observations in the test set. Instead, your task is to **decide** which of the accounts in the test set should be purchased and to **evaluate** the profits that your purchasing decisions could generate. Furthermore, assume that purchasing any invidiual account in the test set has a cost of **$800**.\n",
    "\n",
    "## Grade Breakdown and Instructions\n",
    "\n",
    "The grade breakdown for this assignment is as follows:\n",
    "1. **Decision-making (60\\%):** Your group will be evaluated based on how much profits your decisions generate compared to other groups in the class. So, the more profits you generate, the better. Your decisions must be uploaded in a file called \"decisions_Group_no.csv\" (name the file with your Group_no.). The first column must have the header \"acctid\" and contain the ID of all the accounts in the test set. The second column must have the header \"decision\" and contain the purchase decisions for all the accounts in the test set: use a 1 for accounts you decide to purchase and a 0 for accounts you decide not to purchase. For an example of how to output a file with these characteristics, see the code below. **IMPORTANT**: You will receive no credits if the file you upload does not follow these guidelines, so please be careful.\n",
    "2. **Evaluation (40\\%):** You must also report an estimate of how much profits do you expect to make with your decisions. You will be evaluated based on how well you estimate the profits you actually make, and as in the previous task, your grade will depend on the performance of other groups. Furthermore, overestimations of the actual profits will be penalized twice as much as underestimations. Your estimate must be uploaded as a non-formatted integer number in a file called \"estimate_Group_no.txt\" (name the file with your Group_no.).txt **IMPORTANT**: You will receive no credits if the file you upload does not follow these guidelines, so please be careful.\n",
    "\n",
    "3. **This jupyter notebook** we will not look at your codings if your group performed well in the competition, if not, we shall look at your codings and see whetheter the logic behind is making sense so we can still give you partial marks. You can try to answer the questions in between.\n",
    "\n",
    "* Zip the above 3 files and upload to Canvas, only one group member is required to upload."
   ]
  },
  {
   "cell_type": "code",
   "execution_count": null,
   "metadata": {},
   "outputs": [],
   "source": [
    "import pandas as pd\n",
    "import numpy as np\n",
    "from sklearn.model_selection import GridSearchCV\n",
    "from sklearn.model_selection import train_test_split"
   ]
  },
  {
   "cell_type": "code",
   "execution_count": null,
   "metadata": {},
   "outputs": [],
   "source": [
    "# Load data\n",
    "df_labeled = pd.read_csv(\"SC Training Data.csv\")\n",
    "df_unlabeled = pd.read_csv(\"SC Test Data.csv\")"
   ]
  },
  {
   "cell_type": "markdown",
   "metadata": {},
   "source": [
    "Question 1: Before you begin, think about the business problem of the company (you can write your answer in the cell)"
   ]
  },
  {
   "cell_type": "markdown",
   "metadata": {},
   "source": [
    "## Step 1: Data Preparation\n",
    "\n",
    "* Please conduct data preparation before fit the training data into models.\n",
    "* Remember you have to do data preparation for both training and testing data"
   ]
  },
  {
   "cell_type": "code",
   "execution_count": null,
   "metadata": {},
   "outputs": [],
   "source": [
    "\n",
    "\n",
    "\n",
    "\n",
    "\n",
    "\n"
   ]
  },
  {
   "cell_type": "code",
   "execution_count": null,
   "metadata": {},
   "outputs": [],
   "source": [
    "# Set up features\n",
    "features = \n",
    "\n",
    "\n",
    "# Set up target variable \n",
    "target = \n",
    "\n",
    "\n",
    "# Split into training and test data\n",
    "X_train, X_test, y_train, y_test = train_test_split(X, y, test_size=0.3, random_state=42)"
   ]
  },
  {
   "cell_type": "markdown",
   "metadata": {},
   "source": [
    "Question 2: Why did you decide to make above data preparation process regarding differnt variables"
   ]
  },
  {
   "cell_type": "markdown",
   "metadata": {},
   "source": [
    "## Step 2: Model Building\n",
    "*  Think about what is your goal for this problem. Which model you will use, classification or regression?"
   ]
  },
  {
   "cell_type": "code",
   "execution_count": null,
   "metadata": {},
   "outputs": [],
   "source": [
    "# import your models\n",
    "\n",
    "\n",
    "\n",
    "\n",
    "\n",
    "# Tune your model parameters, what is the best_estimator_\n",
    "\n",
    "\n",
    "\n",
    "\n",
    "# fit your model with training set\n",
    "model.fit(X_train, y_train)"
   ]
  },
  {
   "cell_type": "markdown",
   "metadata": {},
   "source": [
    "Question 3: How did you tune your model?"
   ]
  },
  {
   "cell_type": "markdown",
   "metadata": {},
   "source": [
    "## Step 3: Model Evaluation\n",
    "* Use testing set to evaluate your model based on your goal."
   ]
  },
  {
   "cell_type": "code",
   "execution_count": null,
   "metadata": {},
   "outputs": [],
   "source": [
    "# make prediction on test set\n",
    "acc_cost = 800\n",
    "test_result = model.predict(X_test)\n",
    "\n",
    "\n",
    "\n",
    "# evaluate the model\n"
   ]
  },
  {
   "cell_type": "markdown",
   "metadata": {},
   "source": [
    "#### Based on your above evaluation"
   ]
  },
  {
   "cell_type": "code",
   "execution_count": null,
   "metadata": {},
   "outputs": [],
   "source": [
    "# How many accounts you should purchase in test set? \n",
    "\n",
    "\n"
   ]
  },
  {
   "cell_type": "code",
   "execution_count": null,
   "metadata": {},
   "outputs": [],
   "source": [
    "# How much profit you make based on those decisions?\n",
    "\n",
    "\n"
   ]
  },
  {
   "cell_type": "markdown",
   "metadata": {},
   "source": [
    "## Step 4: Build your Final Model with all your training data\n",
    "* You should use \"SC Training Data.csv\" to fit"
   ]
  },
  {
   "cell_type": "code",
   "execution_count": null,
   "metadata": {},
   "outputs": [],
   "source": [
    "final_model = model.best_estimator_\n",
    "# Use entire data to fit the chosen model\n",
    "final_model.fit(X, y)"
   ]
  },
  {
   "cell_type": "markdown",
   "metadata": {},
   "source": [
    "## Step 5: Make prediction on the test set\n",
    "* Apply your model to make prediction on \"SC Test Data.csv\""
   ]
  },
  {
   "cell_type": "code",
   "execution_count": null,
   "metadata": {},
   "outputs": [],
   "source": [
    "# Make decisions on the unlabeled data\n",
    "decisions = "
   ]
  },
  {
   "cell_type": "markdown",
   "metadata": {},
   "source": [
    "Question 4: how did you make decision on whether you purchase the account or not"
   ]
  },
  {
   "cell_type": "code",
   "execution_count": null,
   "metadata": {},
   "outputs": [],
   "source": [
    "# Make estimation on unlabeled data regarding totalpay, how much profit you could generate based on your prediction?\n",
    "estimate = "
   ]
  },
  {
   "cell_type": "markdown",
   "metadata": {},
   "source": [
    "Question 5: how did you make estimate on total profit you would gain based on your decision"
   ]
  },
  {
   "cell_type": "code",
   "execution_count": null,
   "metadata": {},
   "outputs": [],
   "source": [
    "# Export the results to a CSV file\n",
    "decisions = decisions.astype(int)\n",
    "df_decisions = pd.DataFrame({\"acctid\":df_unlabeled[\"acctid\"], \"decision\": decisions})\n",
    "df_decisions.to_csv(f\"solutions/decisions_{your_Group_no.}.csv\", index=False)"
   ]
  },
  {
   "cell_type": "code",
   "execution_count": null,
   "metadata": {},
   "outputs": [],
   "source": [
    "print(\"DONE!\")"
   ]
  }
 ],
 "metadata": {
  "anaconda-cloud": {},
  "colab": {
   "collapsed_sections": [],
   "name": "Homework2.ipynb",
   "provenance": []
  },
  "kernelspec": {
   "display_name": "Python 3 (ipykernel)",
   "language": "python",
   "name": "python3"
  },
  "language_info": {
   "codemirror_mode": {
    "name": "ipython",
    "version": 3
   },
   "file_extension": ".py",
   "mimetype": "text/x-python",
   "name": "python",
   "nbconvert_exporter": "python",
   "pygments_lexer": "ipython3",
   "version": "3.9.7"
  }
 },
 "nbformat": 4,
 "nbformat_minor": 1
}
